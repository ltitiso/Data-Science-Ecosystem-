{
 "cells": [
  {
   "cell_type": "markdown",
   "id": "462a4a5d-1563-42dc-983c-52f0f8aca571",
   "metadata": {},
   "source": [
    "# Data Science Tools and Ecosystem"
   ]
  },
  {
   "cell_type": "markdown",
   "id": "afedc595-0ab2-414c-8a30-efadedbf69cf",
   "metadata": {},
   "source": [
    "In this notebook, Data Science Tools and Ecosystem are summarized"
   ]
  },
  {
   "cell_type": "markdown",
   "id": "b12a5166-6118-40b1-a6ab-8381f03f6982",
   "metadata": {},
   "source": [
    "**Objective:**\n",
    "List Popular Languages for Data Science.\n",
    "- Python\n",
    "- R\n",
    "- Julia"
   ]
  },
  {
   "cell_type": "markdown",
   "id": "241ad173-d9e1-4be9-b2fd-8df01eb356f9",
   "metadata": {},
   "source": [
    "Some of the popular language that Data Scientist use are:\n",
    "1. Python\n",
    "2. R\n",
    "3. Julia"
   ]
  },
  {
   "cell_type": "markdown",
   "id": "dde4d268-0954-4c8b-9aab-5614827a5f39",
   "metadata": {},
   "source": [
    "Some of the commonly used libraries used in Data Science included:\n",
    "1. Panda\n",
    "2. Numpy\n",
    "3. Matplotlib\n",
    "   "
   ]
  },
  {
   "cell_type": "markdown",
   "id": "5f3bd33b-afca-4270-9270-2122f968bc09",
   "metadata": {},
   "source": [
    "| Data Science Tools |\n",
    "| -------------------|\n",
    "|Jupyter Notebook  |\n",
    "| RStudio          |\n",
    "| VS Code          |\n"
   ]
  },
  {
   "cell_type": "markdown",
   "id": "c73b927a-8bac-4bb2-9467-3f91757616ad",
   "metadata": {},
   "source": [
    "Below are a few exapmles of evaluating aritmetic expression in Python"
   ]
  },
  {
   "cell_type": "code",
   "execution_count": 10,
   "id": "77fa978f-2887-4d9a-9563-65300d411562",
   "metadata": {},
   "outputs": [
    {
     "data": {
      "text/plain": [
       "17"
      ]
     },
     "execution_count": 10,
     "metadata": {},
     "output_type": "execute_result"
    }
   ],
   "source": [
    "(3*4)+5\n",
    "# This is a simple aritmetic expression to multiply then add integers\n"
   ]
  },
  {
   "cell_type": "code",
   "execution_count": 12,
   "id": "7bd12290-0ac0-4316-ac03-e2bd2cdeb890",
   "metadata": {},
   "outputs": [
    {
     "data": {
      "text/plain": [
       "3.3333333333333335"
      ]
     },
     "execution_count": 12,
     "metadata": {},
     "output_type": "execute_result"
    }
   ],
   "source": [
    "200/60\n",
    "# Whis will convert 200 minutes to hours by deviding by 60"
   ]
  },
  {
   "cell_type": "markdown",
   "id": "d704e571-3ba6-4693-806c-194be372fc8d",
   "metadata": {},
   "source": [
    "## Author\n",
    "Leoneto Elizario"
   ]
  },
  {
   "cell_type": "code",
   "execution_count": null,
   "id": "c37e991a-c9e0-4a09-b8e5-fe2d8303d1bd",
   "metadata": {},
   "outputs": [],
   "source": []
  }
 ],
 "metadata": {
  "kernelspec": {
   "display_name": "Python [conda env:base] *",
   "language": "python",
   "name": "conda-base-py"
  },
  "language_info": {
   "codemirror_mode": {
    "name": "ipython",
    "version": 3
   },
   "file_extension": ".py",
   "mimetype": "text/x-python",
   "name": "python",
   "nbconvert_exporter": "python",
   "pygments_lexer": "ipython3",
   "version": "3.12.7"
  }
 },
 "nbformat": 4,
 "nbformat_minor": 5
}
